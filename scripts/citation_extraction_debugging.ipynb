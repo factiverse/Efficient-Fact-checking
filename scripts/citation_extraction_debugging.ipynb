{
 "cells": [
  {
   "cell_type": "code",
   "execution_count": 1,
   "metadata": {},
   "outputs": [
    {
     "data": {
      "text/plain": [
       "<spacy.pipeline.sentencizer.Sentencizer at 0x78c774dbf540>"
      ]
     },
     "execution_count": 1,
     "metadata": {},
     "output_type": "execute_result"
    }
   ],
   "source": [
    "import bz2\n",
    "import cchardet # speed up lxml (html parsing) just by importing\n",
    "import json\n",
    "import lxml\n",
    "import requests\n",
    "from itertools import chain\n",
    "import time\n",
    "import unicodedata\n",
    "from bs4 import BeautifulSoup\n",
    "from text_processing_utils import *\n",
    "import sys\n",
    "sys.path.append(sys.path[0] + '/..')\n",
    "from baselines.hover.StanfordNLP import StanfordNLP\n",
    "corenlp = StanfordNLP(port=9000)\n",
    "# java -mx4g -cp \"*\" edu.stanford.nlp.pipeline.StanfordCoreNLPServer -annotators \"tokenize,ssplit,pos,lemma,parse,sentiment\" -port 9000 -timeout 30000 -quiet\n",
    "\n",
    "import re\n",
    "cite_pattern = re.compile(\"\\[\\d+\\]|\\[nb\\s*\\d+\\]\")   # Citation pattern e.g. [1] or [nb]\n",
    "data_loc = \"../baselines/hover/data/enwiki_files/enwiki-2023-original/\"\n",
    "\n",
    "import spacy\n",
    "spacy.prefer_gpu() # alternatively use: spacy.require_gpu()\n",
    "nlp = spacy.load(\"en_core_web_lg\", disable=['tagger', 'parser', 'ner', 'lemmatizer'])\n",
    "nlp.add_pipe('sentencizer')"
   ]
  },
  {
   "cell_type": "code",
   "execution_count": 7,
   "metadata": {},
   "outputs": [],
   "source": [
    "def find_empty_text(filepath: str, start_loc: str):\n",
    "    results = []\n",
    "    with bz2.open(start_loc + filepath, \"rt\") as file:\n",
    "        for line in file:\n",
    "            wiki_article = json.loads(line)\n",
    "            wiki_text = wiki_article['fact_text'][1:]\n",
    "            if not \" \".join(chain.from_iterable(wiki_text)).strip():\n",
    "                results.append((wiki_article['url'], wiki_article['fact_text'][0]))\n",
    "        return results\n",
    "\n",
    "search_paths = search_file_paths(data_loc)[:500]\n",
    "not_found = Parallel(n_jobs=16, prefer=None)(delayed(find_empty_text)(bz2_filepath, data_loc) for bz2_filepath in search_paths)\n",
    "not_found = list(chain.from_iterable(not_found))"
   ]
  },
  {
   "cell_type": "code",
   "execution_count": 2,
   "metadata": {},
   "outputs": [],
   "source": [
    "def cite(wiki_url, use_spacy):\n",
    "    raw_page = requests.get(url=wiki_url)\n",
    "    soup = BeautifulSoup(raw_page.text, 'lxml')\n",
    "    # used only when extracting just the first paragraph\n",
    "    cite_texts, parent_paras = [], []\n",
    "    parent_tags = soup.find_all(['p', 'ul'], class_=None)\n",
    "    for parent_tag in parent_tags:\n",
    "        # Store Parent sentences per paragraph sub-list\n",
    "        parent_text = cite_pattern.sub('', unicodedata.normalize('NFD', parent_tag.get_text()).strip())\n",
    "        if not parent_text:\n",
    "            continue\n",
    "\n",
    "        if use_spacy:\n",
    "            parent_sents = [sent for p_sent in nlp(parent_text).sents for sent in p_sent.text.strip().split(\"\\n\")]\n",
    "            parent_paras.append(parent_sents)\n",
    "        else:\n",
    "            corenlp_sents = []\n",
    "            para_parse = corenlp.annotate(parent_text)\n",
    "            for sent_parse in para_parse['sentences']:\n",
    "                start_idx = sent_parse['tokens'][0]['characterOffsetBegin']\n",
    "                end_idx = sent_parse['tokens'][-1]['characterOffsetEnd'] \n",
    "                corenlp_sents.extend(parent_text[start_idx:end_idx].strip().split(\"\\n\"))\n",
    "            parent_paras.append(corenlp_sents)\n",
    "\n",
    "        # Find all citation tags in paragraph and extract text up to each citation tag.\n",
    "        cite_tags = parent_tag.find_all('sup', {'class': 'reference'})\n",
    "        for cite_tag in cite_tags:\n",
    "            cite_text = cite_tag.get_text()\n",
    "            if cite_text:\n",
    "                citated_text = parent_tag.get_text().split(cite_text)[:-1]\n",
    "                cited = ''\n",
    "                # Multiple citations can occur in a paragraph (or sentence) so concatenate previous parts\n",
    "                for c in citated_text:\n",
    "                    cited += c\n",
    "                    cleaned_text = cite_pattern.sub('', unicodedata.normalize('NFD', cited.split(\"\\n\")[-1])).strip()\n",
    "                    if cleaned_text and cleaned_text not in cite_texts:\n",
    "                        cite_texts.append(cleaned_text)\n",
    "\n",
    "    # Get actual last sentence and remove non-duplicates (exact match and sub-strings)\n",
    "    if use_spacy:\n",
    "        docs = nlp.pipe(cite_texts, batch_size=128, n_process=1)\n",
    "        sentences = [list(doc.sents)[-1].text for doc in docs if list(doc.sents)]\n",
    "        non_dupes = list(dict.fromkeys(sentences))\n",
    "    else:\n",
    "        non_dupes = []\n",
    "        for para_text in cite_texts:\n",
    "            para_parse = corenlp.annotate(para_text)\n",
    "            sent_parse = para_parse['sentences'][-1]\n",
    "            start_idx = sent_parse['tokens'][0]['characterOffsetBegin']\n",
    "            sent = para_text[start_idx:]\n",
    "            if sent not in non_dupes:\n",
    "                non_dupes.append(sent)\n",
    "    filtered_sentences = [sent for sent in non_dupes if not any(sent in other_sent for other_sent in non_dupes if sent != other_sent)]\n",
    "    # Get the full sentence (possibly sentence cut-off due to citation in middle of sentence).\n",
    "    results = []\n",
    "    for paragraph in parent_paras:\n",
    "        para_sents = [p_sent for c_sent in filtered_sentences for p_sent in paragraph if c_sent in p_sent]\n",
    "        if para_sents:\n",
    "            results.append(para_sents)\n",
    "    return results\n"
   ]
  },
  {
   "cell_type": "code",
   "execution_count": 3,
   "metadata": {},
   "outputs": [
    {
     "name": "stdout",
     "output_type": "stream",
     "text": [
      "['Historically, Delft played a highly influential role in the Dutch Golden Age.', 'In terms of science and technology, thanks to the pioneering contributions of Antonie van Leeuwenhoek and Martinus Beijerinck, Delft can be considered to be the birthplace of microbiology.']\n",
      "['The Delft Explosion, also known in history as the Delft Thunderclap, occurred on 12 October 1654 when a gunpowder store exploded, destroying much of the city.', 'Over a hundred people were killed and thousands were injured.']\n",
      "[\"The gunpowder store (Dutch: Kruithuis) was subsequently re-housed, a 'cannonball's distance away', outside the city, in a new building designed by architect Pieter Post.\"]\n",
      "['The city centre retains a large number of monumental buildings, while in many streets there are canals of which the banks are connected by typical bridges, altogether making this city a notable tourist destination.']\n",
      "[\"The Prinsenhof (Princes' Court), now a museum.\", 'Restored to working order in 2013.', 'Royal Delft also known as De Porceleyne Fles, is a great place which showcases Delft ware.', 'Science Center attracts kids as well as adults.']\n",
      "['Delft is well known for the Delft pottery ceramic products which were styled on the imported Chinese porcelain of the 17th century.', 'It can still be seen at the pottery factories De Koninklijke Porceleyne Fles (or Royal Delft) and De Delftse Pauw, while new ceramics and ceramic art can be found at the Gallery Terra Delft.']\n",
      "['Vermeer used Delft streets and home interiors as the subject or background in his paintings.']\n",
      "['From 2001 the Bacinol\\xa0[nl], a building that had been disused since 1951, began to house small companies in the creative arts sector.']\n",
      "['Delft University of Technology (TU Delft) is one of four universities of technology in the Netherlands.', 'Today, well over 21,000 students are enrolled.']\n",
      "['It opened in 2009 and offers several bachelor degrees for the Faculty of Technology, Innovation & Society.']\n",
      "['East of Delft lies a relatively large nature and recreation area called the \"Delftse Hout\" (\"Delft Wood\").']\n",
      "['Christian van Adrichem (1533—1585), Catholic priest and theological writer']\n",
      "['Martin van Marum (1750–1837), physician, inventor, scientist and teacher']\n",
      "['Ton Lutz (1919–2009) and Pieter Lutz (1927–2009), brothers and actors', 'Mariska Hulscher (born 1964), TV presenter', 'Emma Kirchner (1830 - 1909), first woman photographer in Delft area', 'Wessel van Diepen (born 1966), radio host, music producer and former TV presenter', 'Rob Das (born 1969), film and TV actor, director and writer', 'Jan-Willem van Ewijk (born 1970), film director, actor and screenwriter', 'Ricky Koole (born 1972) a Dutch singer and film actress', 'Marly van der Velden (born 1988), actress and fashion designer']\n",
      "['Nuna is a series of crewed solar-powered vehicles, built by students at the Delft University of Technology, that won the World solar challenge in Australia seven times in the last nine competitions (in 2001, 2003, 2005, 2007, 2013, 2015 and 2017).', 'Formula Student Team Delft is a student racing team that has won the Formula Student competition format in Germany three times in a row, their workplace is located along the shie.', 'This is an international contest for recumbents in the US state of Nevada, the aim of which is to break speed records.']\n",
      "['Delft is twinned with:']\n",
      "[' Castrop-Rauxel, Germany']\n",
      "['Delft railway station; (As of February 2015, located in a new building.)']\n",
      "['In 2018, with the day parking fee of 29.5 Euro, it was the most expensive on-street parking area in the Netherlands, with the city centers of Deventer and Dordrecht being second and third, respectively.']\n"
     ]
    }
   ],
   "source": [
    "results = cite(\"https://en.wikipedia.org/wiki/Delft\", False)\n",
    "for r in results:\n",
    "    print(r)"
   ]
  },
  {
   "cell_type": "code",
   "execution_count": 3,
   "metadata": {},
   "outputs": [
    {
     "name": "stdout",
     "output_type": "stream",
     "text": [
      "['Historically, Delft played a highly influential role in the Dutch Golden Age.', 'In terms of science and technology, thanks to the pioneering contributions of Antonie van Leeuwenhoek and Martinus Beijerinck, Delft can be considered to be the birthplace of microbiology.']\n",
      "['The Delft Explosion, also known in history as the Delft Thunderclap, occurred on 12 October 1654 when a gunpowder store exploded, destroying much of the city.', 'Over a hundred people were killed and thousands were injured.']\n",
      "[\"The gunpowder store (Dutch: Kruithuis) was subsequently re-housed, a 'cannonball's distance away', outside the city, in a new building designed by architect Pieter Post.\"]\n",
      "['The city centre retains a large number of monumental buildings, while in many streets there are canals of which the banks are connected by typical bridges, altogether making this city a notable tourist destination.']\n",
      "[\"The Prinsenhof (Princes' Court), now a museum.\", 'Restored to working order in 2013.', 'Royal Delft also known as De Porceleyne Fles, is a great place which showcases Delft ware.', 'Science Center attracts kids as well as adults.']\n",
      "['Delft is well known for the Delft pottery ceramic products which were styled on the imported Chinese porcelain of the 17th century.', 'It can still be seen at the pottery factories De Koninklijke Porceleyne Fles (or Royal Delft) and De Delftse Pauw, while new ceramics and ceramic art can be found at the Gallery Terra Delft.']\n",
      "['Vermeer used Delft streets and home interiors as the subject or background in his paintings.']\n",
      "['From 2001 the Bacinol\\xa0[nl], a building that had been disused since 1951, began to house small companies in the creative arts sector.']\n",
      "['Delft University of Technology (TU Delft) is one of four universities of technology in the Netherlands.', 'Today, well over 21,000 students are enrolled.']\n",
      "['It opened in 2009 and offers several bachelor degrees for the Faculty of Technology, Innovation & Society.']\n",
      "['East of Delft lies a relatively large nature and recreation area called the \"Delftse Hout\" (\"Delft Wood\").']\n",
      "['Christian van Adrichem (1533—1585), Catholic priest and theological writer']\n",
      "['Martin van Marum (1750–1837), physician, inventor, scientist and teacher']\n",
      "['Ton Lutz (1919–2009) and Pieter Lutz (1927–2009), brothers and actors', 'Mariska Hulscher (born 1964), TV presenter', 'Emma Kirchner (1830 - 1909), first woman photographer in Delft area', 'Wessel van Diepen (born 1966), radio host, music producer and former TV presenter', 'Rob Das (born 1969), film and TV actor, director and writer', 'Jan-Willem van Ewijk (born 1970), film director, actor and screenwriter', 'Ricky Koole (born 1972) a Dutch singer and film actress', 'Marly van der Velden (born 1988), actress and fashion designer']\n",
      "['Nuna is a series of crewed solar-powered vehicles, built by students at the Delft University of Technology, that won the World solar challenge in Australia seven times in the last nine competitions (in 2001, 2003, 2005, 2007, 2013, 2015 and 2017).', 'Formula Student Team Delft is a student racing team that has won the Formula Student competition format in Germany three times in a row, their workplace is located along the shie.', 'This is an international contest for recumbents in the US state of Nevada, the aim of which is to break speed records.']\n",
      "['Delft is twinned with:']\n",
      "[' Castrop-Rauxel, Germany']\n",
      "['Delft railway station; (As of February 2015, located in a new building.)']\n",
      "['In 2018, with the day parking fee of 29.5 Euro, it was the most expensive on-street parking area in the Netherlands, with the city centers of Deventer and Dordrecht being second and third, respectively.']\n"
     ]
    }
   ],
   "source": [
    "results = cite(\"https://en.wikipedia.org/wiki/Delft\", True)\n",
    "for r in results:\n",
    "    print(r)"
   ]
  },
  {
   "cell_type": "code",
   "execution_count": null,
   "metadata": {},
   "outputs": [],
   "source": []
  },
  {
   "cell_type": "code",
   "execution_count": 8,
   "metadata": {},
   "outputs": [
    {
     "name": "stdout",
     "output_type": "stream",
     "text": [
      "2017  Apparent\" or \"effective\" FTL, on the other hand, depends on the hypothesis that unusually distorted regions of spacetime might permit matter to reach distant locations in less time than light could in normal (\"undistorted\") spacetime.[SENT]Examples of apparent FTL proposals are the Alcubierre drive, Krasnikov tubes, traversable wormholes, and quantum tunneling.[SENT]In the context of this article, FTL is the transmission of information or matter faster than c, a constant equal to the speed of light in vacuum, which is 299,792,458 m/s (by definition of the metre) or about 186,282.397 miles per second.[SENT]Proxima Centauri, the nearest star outside the Solar System, is about four and a half light-years away.[SENT]In this frame of reference, in which Proxima Centauri is perceived to be moving in a circular trajectory with a radius of four light years, it could be described as having a speed many times greater than c as the rim speed of an object moving in a circle is a product of the radius and angular speed.[SENT]Comets may have orbits which take them out to more than 1000 AU.[SENT]If a laser beam is swept across a distant object, the spot of laser light can easily be made to move across the object at a speed greater than c. Similarly, a shadow projected onto a distant object can be made to move across the object faster than c. In neither case does the light travel from the source to the object faster than c, nor does any information travel faster than light.[SENT]For example, this occurs in most glasses at X-ray frequencies.[SENT]Such a wave component must be infinite in extent and of constant amplitude (otherwise it is not truly monochromatic), and so cannot convey any information.[SENT]The group velocity of a wave may also exceed c in some circumstances.[SENT]In such cases, which typically at the same time involve rapid attenuation of the intensity, the maximum of the envelope of a pulse may travel with a velocity above c. However, even this situation does not imply the propagation of signals with a velocity above c, even though one may be tempted to associate pulse maxima with signals.[SENT]For example, if some mechanism allows the full transmission of the leading part of a pulse while strongly attenuating the pulse maximum and everything behind (distortion), the pulse maximum is effectively shifted forward in time, while the information on the pulse does not come faster than c without this effect.[SENT]The diffraction causes the peak of the pulse to propagate faster, while overall power does not.[SENT]Moreover, in general relativity, velocity is a local notion, and there is not even a unique definition for the relative velocity of a cosmologically distant object.[SENT]Because the Hubble parameter is decreasing with time, there can actually be cases where a galaxy that is receding from us faster than light does manage to emit a signal which reaches us eventually.[SENT]However, because the expansion of the universe is accelerating, it is projected that most galaxies will eventually cross a type of cosmological event horizon where any light they emit past that point will never be able to reach us at any time in the infinite future, because the light never reaches a point where its \"peculiar velocity\" towards us exceeds the expansion velocity away from us (these two notions of velocity are also discussed in Comoving and proper distances#Uses of the proper distance).[SENT]The current distance to this cosmological event horizon is about 16 billion light-years, meaning that a signal from an event happening at present would eventually be able to reach us in the future if the event was less than 16 billion light-years away, but the signal would never reach us if the event was more than 16 billion light-years away.[SENT]The effect was predicted before it was observed by Martin Rees[clarification needed] and can be explained as an optical illusion caused by the object partly moving in the direction of the observer, when the speed calculations assume it does not.[SENT]They are the first examples of large amounts of mass moving at close to the speed of light.[SENT]The uncertainty principle implies that individual photons may travel for short distances at speeds somewhat faster (or slower) than c, even in vacuum; this possibility must be taken into account when enumerating Feynman diagrams for a particle interaction.[SENT]However, it was shown in 2011 that a single photon may not travel faster than c. In quantum mechanics, virtual particles may travel faster than light, and this phenomenon is related to the fact that static field effects (which are mediated by virtual particles in quantum terms) may travel faster than light (see section on static fields above).[SENT]Usually, such reports deal with a phase velocity or group velocity faster than the vacuum velocity of light.[SENT]However, as stated above, a superluminal phase velocity cannot be used for faster-than-light transmission of information.[SENT]The Hartman effect is the tunneling effect through a barrier where the tunneling time tends to a constant for large barriers.[SENT]For large gaps between the prisms the tunnelling time approaches a constant and thus the photons appear to have crossed with a superluminal speed.[SENT]However, the Hartman effect cannot actually be used to violate relativity by transmitting signals faster than c, because the tunnelling time \"should not be linked to a velocity since evanescent waves do not propagate\".[SENT]An experiment performed in 1997 by Nicolas Gisin has demonstrated non-local quantum correlations between particles separated by over 10 kilometers.[SENT]A 2008 quantum physics experiment also performed by Nicolas Gisin and his colleagues has determined that in any hypothetical non-local hidden-variable theory, the speed of the quantum non-local connection (what Einstein called \"spooky action at a distance\") is at least 10,000 times the speed of light.[SENT]The characteristic of this experiment is that the observation of the second photon can take place at a later time than the observation of the first photon, which may give the impression that the measurement of the later photons \"retroactively\" determines whether the earlier photons show interference or not, although the interference pattern can only be seen by correlating the measurements of both members of every pair and so it cannot be observed until both photons have been measured, ensuring that an experimenter watching only the photons going through the slit does not obtain information about the other photons in an FTL or backwards-in-time manner.[SENT]The vacuum has energy associated with it, called simply the vacuum energy, which could perhaps be altered in certain cases.[SENT]Calculations imply that light will go faster in such a vacuum by a minuscule amount: a photon traveling between two plates that are 1 micrometer apart would increase the photon's speed by only about one part in 1036.[SENT]A recent analysis argued that the Scharnhorst effect cannot be used to send information backwards in time with a single set of plates since the plates' rest frame would define a \"preferred frame\" for FTL signaling.[SENT]Other authors argue that Scharnhorst's original analysis, which seemed to show the possibility of faster-than-c signals, involved approximations which may be incorrect, so that it is not clear whether this effect could actually increase signal speed at all.[SENT]that particle tunneling does indeed occur in zero real time.[SENT]Again, though, other physicists believe that tunneling experiments in which particles appear to spend anomalously short times inside the barrier are in fact fully compatible with relativity, although there is disagreement about whether the explanation involves reshaping of the wave packet or other effects.[SENT]The best-known attempt is doubly special relativity, which posits that the Planck length is also the same in all reference frames, and is associated with the work of Giovanni Amelino-Camelia and João Magueijo.[SENT]Despite this difficulty, such experiments have been proposed.[SENT]Although the theory of special relativity forbids objects to have a relative velocity greater than light speed, and general relativity reduces to special relativity in a local sense (in small regions of spacetime where curvature is negligible), general relativity does allow the space between distant objects to expand in such a way that they have a \"recession velocity\" which exceeds the speed of light, and it is thought that galaxies which are at a distance of more than about 14 billion light-years from us today have a recession velocity which is faster than light.[SENT]Miguel Alcubierre theorized that it would be possible to create a warp drive, in which a ship would be enclosed in a \"warp bubble\" where the space at the front of the bubble is rapidly contracting and the space at the back is rapidly expanding, with the result that the bubble can reach a distant destination much faster than a light beam moving outside the bubble, but without objects inside the bubble locally traveling faster than light.[SENT]Cleaver said positive dark energy is currently responsible for speeding up the expansion rate of our universe as time moves on.[SENT]The possibility that Lorentz symmetry may be violated has been seriously considered in the last two decades, particularly after the development of a realistic effective field theory that describes this possible violation, the so-called Standard-Model Extension.[SENT]This general framework has allowed experimental searches by ultra-high energy cosmic-ray experiments and a wide variety of experiments in gravity, electrons, protons, neutrons, neutrinos, mesons, and photons.[SENT]In some models of broken Lorentz symmetry, it is postulated that the symmetry is still built into the most fundamental laws of physics, but that spontaneous symmetry breaking of Lorentz invariance shortly after the Big Bang could have left a \"relic field\" throughout the universe which causes particles to behave differently depending on their velocity relative to the field; however, there are also some models where Lorentz symmetry is broken in a more fundamental way.[SENT]Therefore, as widely recognized, existing low-energy bounds cannot be applied to high-energy phenomena; however, many searches for Lorentz violation at high energies have been carried out using the Standard-Model Extension.[SENT]In this approach, the physical vacuum is viewed as a quantum superfluid which is essentially non-relativistic, whereas Lorentz symmetry is not an exact symmetry of nature but rather the approximate description valid only for the small fluctuations of the superfluid background.[SENT]It was shown that the relativistic gravitational interaction arises as the small-amplitude collective excitation mode whereas relativistic elementary particles can be described by the particle-like modes in the limit of low momenta.[SENT]The important fact is that at very high velocities the behavior of the particle-like modes becomes distinct from the relativistic one – they can reach the speed of light limit at finite energy; also, faster-than-light propagation is possible without requiring moving objects to have imaginary mass.[SENT]In 2007 the MINOS collaboration reported results measuring the flight-time of 3 GeV neutrinos yielding a speed exceeding that of light by 1.8-sigma significance.[SENT]However, those measurements were considered to be statistically consistent with neutrinos traveling at the speed of light.[SENT]Further measurements are going to be conducted.[SENT]On September 22, 2011, a preprint from the OPERA Collaboration indicated detection of 17 and 28 GeV muon neutrinos, sent 730 kilometers (454 miles) from CERN near Geneva, Switzerland to the Gran Sasso National Laboratory in Italy, traveling faster than light by a relative amount of 2.48×10−5 (approximately 1 in 40,000), a statistic with 6.0-sigma significance.[SENT]On 17 November 2011, a second follow-up experiment by OPERA scientists confirmed their initial results.[SENT]However, scientists were skeptical about the results of these experiments, the significance of which was disputed.[SENT]In March 2012, the ICARUS collaboration failed to reproduce the OPERA results with their equipment, detecting neutrino travel time from CERN to the Gran Sasso National Laboratory indistinguishable from the speed of light.[SENT]Later the OPERA team reported two flaws in their equipment set-up that had caused errors far outside their original confidence interval: a fiber-optic cable attached improperly, which caused the apparently faster-than-light measurements, and a clock oscillator ticking too fast.[SENT]Attempts to quantize them failed to produce faster-than-light particles, and instead illustrated that their presence leads to an instability.[SENT]Various theorists have suggested that the neutrino might have a tachyonic nature, while others have disputed the possibility.[SENT]One theory states that stable wormholes are possible, but that any attempt to use a network of wormholes to violate causality would result in their decay.[citation needed] In string theory, Eric G. Gimon and Petr Hořava have argued that in a supersymmetric five-dimensional Gödel universe, quantum corrections to general relativity effectively cut off regions of spacetime with causality-violating closed timelike curves.[SENT]FTL travel is a common trope in science fiction.\n",
      "2023  \n"
     ]
    }
   ],
   "source": [
    "import sqlite3, unicodedata\n",
    "\n",
    "title = \"Faster-than-light\"\n",
    "\n",
    "conn = sqlite3.connect(\"../baselines/hover/data/db_files/enwiki-2017-cite-full.db\")\n",
    "wiki_db = conn.cursor()\n",
    "doc_text = wiki_db.execute(\"SELECT text FROM documents WHERE id = ?\", \n",
    "                            (unicodedata.normalize('NFD',title),)).fetchone()[0]\n",
    "conn.close()\n",
    "print(\"2017 \", doc_text)\n",
    "\n",
    "conn = sqlite3.connect(\"../baselines/hover/data/db_files/enwiki-2023-cite-full-incorrect.db\")\n",
    "wiki_db = conn.cursor()\n",
    "doc_text = wiki_db.execute(\"SELECT text FROM documents WHERE id = ?\", \n",
    "                            (unicodedata.normalize('NFD',title),)).fetchone()[0]\n",
    "conn.close()\n",
    "print(\"2023 \", doc_text)"
   ]
  }
 ],
 "metadata": {
  "kernelspec": {
   "display_name": "grounding",
   "language": "python",
   "name": "python3"
  },
  "language_info": {
   "codemirror_mode": {
    "name": "ipython",
    "version": 3
   },
   "file_extension": ".py",
   "mimetype": "text/x-python",
   "name": "python",
   "nbconvert_exporter": "python",
   "pygments_lexer": "ipython3",
   "version": "3.10.9"
  }
 },
 "nbformat": 4,
 "nbformat_minor": 2
}
