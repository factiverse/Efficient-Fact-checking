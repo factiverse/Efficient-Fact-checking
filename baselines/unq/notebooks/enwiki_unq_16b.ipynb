{
 "cells": [
  {
   "cell_type": "code",
   "execution_count": 1,
   "metadata": {},
   "outputs": [
    {
     "name": "stdout",
     "output_type": "stream",
     "text": [
      "env: CUDA_VISIBLE_DEVICES=0\n",
      "env: OMP_NUM_THREADS=56\n"
     ]
    },
    {
     "name": "stderr",
     "output_type": "stream",
     "text": [
      "/home/venky/miniconda3/envs/grounding/lib/python3.11/site-packages/tqdm/auto.py:21: TqdmWarning: IProgress not found. Please update jupyter and ipywidgets. See https://ipywidgets.readthedocs.io/en/stable/user_install.html\n",
      "  from .autonotebook import tqdm as notebook_tqdm\n"
     ]
    },
    {
     "name": "stdout",
     "output_type": "stream",
     "text": [
      "experiment: enwiki_claim_unq_16b_2024.01.09_14:45:52\n"
     ]
    }
   ],
   "source": [
    "%env CUDA_VISIBLE_DEVICES=0\n",
    "%env OMP_NUM_THREADS=56\n",
    "#^--change this\n",
    "import os, sys, time\n",
    "sys.path.insert(0, '..')\n",
    "import faiss\n",
    "import json\n",
    "import lib\n",
    "import numpy as np\n",
    "import torch, torch.nn as nn\n",
    "import torch.nn.functional as F\n",
    "from torch.utils.data import random_split\n",
    "from qhoptim.pyt import QHAdam\n",
    "from functools import partial\n",
    "from sentence_transformers import SentenceTransformer\n",
    "import sqlite3\n",
    "import unicodedata\n",
    "device_ids = list(range(torch.cuda.device_count()))\n",
    "\n",
    "setting = 'cite-full'\n",
    "experiment_name = 'enwiki_claim_unq_16b'\n",
    "experiment_name = '{}_{}.{:0>2d}.{:0>2d}_{:0>2d}:{:0>2d}:{:0>2d}'.format(experiment_name, *time.gmtime()[:6])\n",
    "print(\"experiment:\", experiment_name)"
   ]
  },
  {
   "cell_type": "code",
   "execution_count": 2,
   "metadata": {},
   "outputs": [
    {
     "name": "stdout",
     "output_type": "stream",
     "text": [
      "load tensor\n"
     ]
    },
    {
     "name": "stderr",
     "output_type": "stream",
     "text": [
      "Batches: 100%|██████████| 142/142 [00:02<00:00, 63.46it/s]\n"
     ]
    }
   ],
   "source": [
    "DATA_PATH = os.path.join(\"..\", \"..\", \"hover\", \"data\")\n",
    "device = torch.device(\"cuda\" if torch.cuda.is_available() else \"cpu\")\n",
    "encoder = SentenceTransformer(\n",
    "    \"sentence-transformers/all-MiniLM-L6-v2\", device=device\n",
    ")\n",
    "\n",
    "# EMBED claims\n",
    "def get_hover_data():\n",
    "    doc_titles, claims = [], []\n",
    "    for split in [\"train\", \"dev\", \"test\"]:\n",
    "        hover_claim_path = os.path.join(DATA_PATH, \"hover\", f\"hover_{split}_release_v1.1.json\")\n",
    "        with open(hover_claim_path, 'r') as json_file:\n",
    "            claim_json = json.load(json_file)\n",
    "\n",
    "            if split == \"train\":\n",
    "                claims = [claim for claim in claim_json]\n",
    "\n",
    "            docs = [d[0] for d in claim_json['supporting_facts']]\n",
    "            doc_titles.extend(docs)\n",
    "    doc_titles = list(set(doc_titles))\n",
    "\n",
    "    with torch.no_grad():\n",
    "        query_dataset = torch.from_numpy(encoder.encode(claims, batch_size=128, show_progress_bar=True)).to(torch.float)\n",
    "    return query_dataset, doc_titles\n",
    "\n",
    "def get_doc_embeds(doc_titles):\n",
    "    doc_text_list = []\n",
    "    db_path = os.path.join(DATA_PATH, \"db_files\", f\"wiki_wo_links-{setting}-embed.db\")\n",
    "    conn = sqlite3.connect(db_path)\n",
    "    wiki_db = conn.cursor()\n",
    "    for title in doc_titles:\n",
    "        doc_text = wiki_db.execute(\"SELECT text FROM documents WHERE id = ?\", \n",
    "                                                    (unicodedata.normalize('NFD', title),)).fetchone()\n",
    "        if doc_text:\n",
    "            doc_text_list.append(doc_text[0])\n",
    "    conn.close()\n",
    "\n",
    "    embeds_list = encoder.encode(doc_text_list, batch_size=128, show_progress_bar=True)\n",
    "    enwiki_embeds = torch.from_numpy(embeds_list).to(torch.float)\n",
    "    return enwiki_embeds"
   ]
  },
  {
   "cell_type": "code",
   "execution_count": null,
   "metadata": {},
   "outputs": [],
   "source": [
    "# EMBED Documents\n",
    "ENWIKI_PATH = os.path.join(\"data\", \"ENWIKI\")\n",
    "data_path = os.path.join(ENWIKI_PATH, f\"{setting}-dataset-tensor.pt\")\n",
    "query_path = os.path.join(ENWIKI_PATH, f\"{setting}-query-tensor.pt\")\n",
    "\n",
    "if os.path.exists(query_path) and os.path.exists(data_path):\n",
    "    print(\"load tensor\")\n",
    "    enwiki_embeds = torch.load(data_path).to(torch.float)\n",
    "    query_dataset = torch.load(query_path).to(torch.float)\n",
    "else:\n",
    "    print(\"create tensor\")\n",
    "    query_dataset, doc_titles = get_hover_data()\n",
    "    torch.save(query_dataset, query_path)\n",
    "    enwiki_embeds = get_doc_embeds(doc_titles=doc_titles)\n",
    "    torch.save(enwiki_embeds, data_path)\n",
    "\n",
    "# SPLIT DATA\n",
    "random_seed = torch.Generator().manual_seed(42)\n",
    "train_dataset, test_dataset = random_split(dataset=enwiki_embeds, \n",
    "                                        lengths=[0.2, 0.8], \n",
    "                                        generator=random_seed)\n",
    "train_dataset = torch.stack([t for t in train_dataset])\n",
    "test_dataset = torch.stack([t for t in test_dataset])"
   ]
  },
  {
   "cell_type": "code",
   "execution_count": 3,
   "metadata": {},
   "outputs": [
    {
     "data": {
      "text/plain": [
       "1097243"
      ]
     },
     "execution_count": 3,
     "metadata": {},
     "output_type": "execute_result"
    }
   ],
   "source": [
    "print(f\"train: {len(train_dataset)}, test: {len(test_dataset)}, query: {len(query_dataset)}\")"
   ]
  },
  {
   "cell_type": "markdown",
   "metadata": {},
   "source": [
    "### Description\n",
    "\n",
    "This experiment trains UNQ model with 16-byte encoding on DEEP1M dataset and standard model size.\n",
    "\n",
    "The original experiment was trained on 4 Nnvdia 1080 gtx GPUs. One can set arbitrary number of GPUs by changing the `CUDA_VISIBLE_DEVICES` variable at the top. This experiment may also consume around 8Gb of GPU memory. If one doesn't have this much memory, there are ways to reduce memory usage at the cost of training or inference speed.\n",
    "\n",
    "1. Split data into smaller chunks. One can reduce `batch_size` parameter in `LearnedSimilaritySearch` and call lib.free_memory() after every memory-intensive operation. Use virtual batching: change `trainer.train_on_batch` below to:\n",
    "```(python3.5)\n",
    "model.train(True)\n",
    "trainer.opt.zero_grad()\n",
    "for chunk_start in range(0, len(x_batch), 1000):\n",
    "    chunk = slice(chunk_start, chunk_start + 1000)\n",
    "    metrics_t = model.compute_loss(x_batch[chunk], \n",
    "        sample_uniform(train_base, nearest_ids[chunk]),\n",
    "        sample_uniform(train_base, negative_ids[chunk])\n",
    "    )\n",
    "    metrics_t['loss'].mean().backward()\n",
    "trainer.opt.step()\n",
    "trainer.step += 1\n",
    "...\n",
    "```\n",
    "2. Reduce __batch_size__ in the __iterate_minibatches__ function - this will significantly reduce memory requirements but may reduce the resulting recall. Please also consider reducing `learning_rate_base` and `increasing warmup_steps` in the optimizer.\n",
    "3. If you're low on CPU (we had 56), neighbor lookup will take up a lot of time. Set `rerank_k=float('inf')` - this will cause nearest neighbors to be computed with less memory-hungry implementation of FAISSFlatIndex. Please note that this will cause __overestimation__ of recall. Do not use this for comparison with other models.  \n",
    "\n",
    "By default, this notebook trains a model that reranks 500 most promising candidates during nearest neighbor search. You can increase this number to boost recall across all regions. In order to do so, go to Trainer initialization below and change `rerank_k` in LearnedSimilaritySearch from 500 to a greater value."
   ]
  },
  {
   "cell_type": "code",
   "execution_count": 3,
   "metadata": {},
   "outputs": [],
   "source": [
    "model = lib.UNQModel(\n",
    "    input_dim=enwiki_embeds.size(dim=1), hidden_dim=1024, bottleneck_dim=256,\n",
    "    encoder_layers=2, decoder_layers=2, Activation=nn.ReLU,\n",
    "    num_codebooks=16, codebook_size=256, initial_entropy=3.0,\n",
    "    share_codewords=True\n",
    ").cuda()\n",
    "\n",
    "with torch.no_grad():\n",
    "    model(train_dataset[:1000].cuda())\n",
    "    # ^-- initialize model on first run\n",
    "\n",
    "trainer = lib.Trainer(\n",
    "    model=model, experiment_name=experiment_name, verbose=True,\n",
    "    Loss=lib.TripletLoss, loss_opts=dict(\n",
    "        reconstruction_distance=lib.DISTANCES['euclidian_squared'],\n",
    "        reconstruction_coeff=1.0, triplet_coeff=0.1, triplet_delta=0.1,\n",
    "        cv_coeff=0.1, square_cv=True,\n",
    "    ),\n",
    "    optimizer=lib.OneCycleSchedule(\n",
    "        QHAdam(model.parameters(), nus=(0.8, 0.7), betas=(0.95, 0.998)), \n",
    "        learning_rate_base=1e-3, warmup_steps=10000, decay_rate=0.2),\n",
    "    max_norm=10,\n",
    "    \n",
    "    LearnedSimilaritySearch=partial(lib.UNQSearch, model=model, rerank_k=100, batch_size=1000,\n",
    "                                    reorder_batch_size=250, device_ids=device_ids),\n",
    "    NegativeSimilaritySearch=partial(lib.UNQSearch, model=model, rerank_k=1, batch_size=1000,\n",
    "                                    reorder_batch_size=250, device_ids=device_ids),\n",
    "    SimilaritySearch=lib.FAISSFlatIndex,  # reference nearest vectors will be mined this way\n",
    "    device_ids=device_ids\n",
    "    \n",
    ")"
   ]
  },
  {
   "cell_type": "code",
   "execution_count": 4,
   "metadata": {},
   "outputs": [
    {
     "name": "stdout",
     "output_type": "stream",
     "text": [
      "Computing ground truth neighbors... Done\n"
     ]
    }
   ],
   "source": [
    "import matplotlib.pyplot as plt\n",
    "%matplotlib inline\n",
    "from IPython.display import clear_output\n",
    "from tqdm import tqdm\n",
    "from pandas import DataFrame\n",
    "moving_average = lambda x, **kw: DataFrame({'x':np.asarray(x)}).x.ewm(**kw).mean().values\n",
    "\n",
    "best_recall = 0.0\n",
    "step_history, loss_history, recall_history = [], [], []\n",
    "\n",
    "train_base = train_dataset.cuda()\n",
    "train_gt = trainer.get_true_nearest_ids(train_base, k=10, exclude_self=True)\n",
    "\n",
    "def fetch_negatives():\n",
    "    return trainer.get_negative_ids(train_base.cpu(), positive_ids=train_gt.cpu(), k=100, skip_k=100).cuda()\n",
    "\n",
    "def sample_uniform(base, ids):\n",
    "    return base[ids[torch.arange(ids.shape[0]), torch.randint(0, ids.shape[1], size=[ids.shape[0]])]]"
   ]
  },
  {
   "cell_type": "code",
   "execution_count": 5,
   "metadata": {
    "scrolled": false
   },
   "outputs": [
    {
     "data": {
      "image/png": "[encoded data removed]",
      "text/plain": [
       "<Figure size 1800x600 with 2 Axes>"
      ]
     },
     "metadata": {},
     "output_type": "display_data"
    },
    {
     "name": "stdout",
     "output_type": "stream",
     "text": [
      "step = 1218 \t mean loss = 0.74431 \t lr = 0.00012 \t best dev recall = 0.01156\n",
      "loss = 0.741420567035675\n",
      "reconstruction_loss = 0.7153195738792419\n",
      "triplet_loss = 0.21944887936115265\n",
      "reg = 0.004156106151640415\n",
      "cv_squared = 0.004207351710647345\n",
      "grad_norm = 10.01201057434082\n"
     ]
    },
    {
     "name": "stderr",
     "output_type": "stream",
     "text": [
      "  6%|▋         | 2/31 [00:00<00:04,  6.02it/s]"
     ]
    },
    {
     "name": "stdout",
     "output_type": "stream",
     "text": [
      "Grad dropped!\n",
      "Grad dropped!\n"
     ]
    },
    {
     "name": "stderr",
     "output_type": "stream",
     "text": [
      " 13%|█▎        | 4/31 [00:00<00:04,  6.02it/s]"
     ]
    },
    {
     "name": "stdout",
     "output_type": "stream",
     "text": [
      "Grad dropped!\n",
      "Grad dropped!\n"
     ]
    },
    {
     "name": "stderr",
     "output_type": "stream",
     "text": [
      " 19%|█▉        | 6/31 [00:00<00:04,  6.01it/s]"
     ]
    },
    {
     "name": "stdout",
     "output_type": "stream",
     "text": [
      "Grad dropped!\n",
      "Grad dropped!\n"
     ]
    },
    {
     "name": "stderr",
     "output_type": "stream",
     "text": [
      " 26%|██▌       | 8/31 [00:01<00:03,  6.02it/s]"
     ]
    },
    {
     "name": "stdout",
     "output_type": "stream",
     "text": [
      "Grad dropped!\n",
      "Grad dropped!\n"
     ]
    },
    {
     "name": "stderr",
     "output_type": "stream",
     "text": [
      " 32%|███▏      | 10/31 [00:01<00:03,  6.01it/s]"
     ]
    },
    {
     "name": "stdout",
     "output_type": "stream",
     "text": [
      "Grad dropped!\n",
      "Grad dropped!\n"
     ]
    },
    {
     "name": "stderr",
     "output_type": "stream",
     "text": [
      " 39%|███▊      | 12/31 [00:01<00:03,  6.01it/s]"
     ]
    },
    {
     "name": "stdout",
     "output_type": "stream",
     "text": [
      "Grad dropped!\n",
      "Grad dropped!\n"
     ]
    },
    {
     "name": "stderr",
     "output_type": "stream",
     "text": [
      " 45%|████▌     | 14/31 [00:02<00:02,  6.01it/s]"
     ]
    },
    {
     "name": "stdout",
     "output_type": "stream",
     "text": [
      "Grad dropped!\n",
      "Grad dropped!\n"
     ]
    },
    {
     "name": "stderr",
     "output_type": "stream",
     "text": [
      " 52%|█████▏    | 16/31 [00:02<00:02,  6.00it/s]"
     ]
    },
    {
     "name": "stdout",
     "output_type": "stream",
     "text": [
      "Grad dropped!\n",
      "Grad dropped!\n"
     ]
    },
    {
     "name": "stderr",
     "output_type": "stream",
     "text": [
      " 58%|█████▊    | 18/31 [00:02<00:02,  6.00it/s]"
     ]
    },
    {
     "name": "stdout",
     "output_type": "stream",
     "text": [
      "Grad dropped!\n",
      "Grad dropped!\n"
     ]
    },
    {
     "name": "stderr",
     "output_type": "stream",
     "text": [
      " 65%|██████▍   | 20/31 [00:03<00:01,  6.00it/s]"
     ]
    },
    {
     "name": "stdout",
     "output_type": "stream",
     "text": [
      "Grad dropped!\n",
      "Grad dropped!\n"
     ]
    },
    {
     "name": "stderr",
     "output_type": "stream",
     "text": [
      " 71%|███████   | 22/31 [00:03<00:01,  6.00it/s]"
     ]
    },
    {
     "name": "stdout",
     "output_type": "stream",
     "text": [
      "Grad dropped!\n",
      "Grad dropped!\n"
     ]
    },
    {
     "name": "stderr",
     "output_type": "stream",
     "text": [
      " 77%|███████▋  | 24/31 [00:03<00:01,  6.00it/s]"
     ]
    },
    {
     "name": "stdout",
     "output_type": "stream",
     "text": [
      "Grad dropped!\n",
      "Grad dropped!\n"
     ]
    },
    {
     "name": "stderr",
     "output_type": "stream",
     "text": [
      " 84%|████████▍ | 26/31 [00:04<00:00,  6.00it/s]"
     ]
    },
    {
     "name": "stdout",
     "output_type": "stream",
     "text": [
      "Grad dropped!\n",
      "Grad dropped!\n"
     ]
    },
    {
     "name": "stderr",
     "output_type": "stream",
     "text": [
      " 90%|█████████ | 28/31 [00:04<00:00,  5.99it/s]"
     ]
    },
    {
     "name": "stdout",
     "output_type": "stream",
     "text": [
      "Grad dropped!\n",
      "Grad dropped!\n"
     ]
    },
    {
     "name": "stderr",
     "output_type": "stream",
     "text": [
      " 97%|█████████▋| 30/31 [00:04<00:00,  5.99it/s]"
     ]
    },
    {
     "name": "stdout",
     "output_type": "stream",
     "text": [
      "Grad dropped!\n",
      "Grad dropped!\n"
     ]
    },
    {
     "name": "stderr",
     "output_type": "stream",
     "text": [
      "100%|██████████| 31/31 [00:05<00:00,  6.09it/s]\n"
     ]
    },
    {
     "name": "stdout",
     "output_type": "stream",
     "text": [
      "Grad dropped!\n",
      "Computing negative candidates... "
     ]
    }
   ],
   "source": [
    "for epoch_i in range(10000):\n",
    "    trainer.loss.module.opts['cv_coeff'] = max(0.03, 1. - trainer.step / 100_000)\n",
    "    trainer.drop_large_grads = trainer.step >= 1000\n",
    "    \n",
    "    lib.free_memory()\n",
    "    if epoch_i % 8 == 0: # every ~250 steps\n",
    "        train_negatives = fetch_negatives()\n",
    "    \n",
    "    for x_batch, nearest_ids, negative_ids in lib.iterate_minibatches(\n",
    "        train_base, train_gt, train_negatives, batch_size=8192 * 2, callback=tqdm):\n",
    "        metrics_t = trainer.train_on_batch(x_batch,\n",
    "                                           x_positives=sample_uniform(train_base, nearest_ids),\n",
    "                                           x_negatives=sample_uniform(train_base, negative_ids))\n",
    "        loss_history.append(metrics_t['loss'].mean().item())\n",
    "        step_history.append(trainer.step)\n",
    "    \n",
    "    if epoch_i % 10 == 0: # every ~500 steps\n",
    "        metrics_t = {key: lib.check_numpy(value) for key, value in metrics_t.items()}\n",
    "        lib.free_memory()\n",
    "\n",
    "        recall_t = trainer.evaluate_recall(test_dataset.cuda(), query_dataset.cuda(), k=1)\n",
    "        # ^-- this line evaluates recall@1. Change k to 10, 100, etc. to get recall for different top sizes\n",
    "\n",
    "        recall_history.append(recall_t)\n",
    "        if recall_t > best_recall:\n",
    "            best_recall = recall_t\n",
    "            trainer.save_checkpoint('best')\n",
    "\n",
    "        clear_output(True)\n",
    "        plt.figure(figsize=[18, 6])\n",
    "        plt.subplot(1, 3, 1); plt.title('train loss'); plt.grid()\n",
    "        plt.scatter(step_history, loss_history, alpha=0.1)\n",
    "        plt.plot(moving_average(loss_history, span=100), c='orange')\n",
    "        plt.subplot(1, 3, 2); plt.title('dev recall@1'); plt.grid()\n",
    "        plt.plot(recall_history)\n",
    "        plt.show()\n",
    "\n",
    "        print(\"step = %i \\t mean loss = %.5f \\t lr = %.5f \\t best dev recall = %.5f\" % (\n",
    "            trainer.step, np.mean(loss_history[-100:]),\n",
    "            lib.get_learning_rate(trainer.opt), best_recall))\n",
    "        for k, v in metrics_t.items():\n",
    "            print('{} = {}'.format(k, np.mean(lib.check_numpy(v))))\n",
    "\n",
    "# see you in tensorboard..."
   ]
  },
  {
   "cell_type": "code",
   "execution_count": null,
   "metadata": {},
   "outputs": [],
   "source": []
  }
 ],
 "metadata": {
  "kernelspec": {
   "display_name": "Python 3",
   "language": "python",
   "name": "python3"
  },
  "language_info": {
   "codemirror_mode": {
    "name": "ipython",
    "version": 3
   },
   "file_extension": ".py",
   "mimetype": "text/x-python",
   "name": "python",
   "nbconvert_exporter": "python",
   "pygments_lexer": "ipython3",
   "version": "3.11.6"
  }
 },
 "nbformat": 4,
 "nbformat_minor": 2
}
