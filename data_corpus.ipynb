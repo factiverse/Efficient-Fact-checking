{
 "cells": [
  {
   "cell_type": "code",
   "execution_count": 42,
   "metadata": {},
   "outputs": [],
   "source": [
    "import pandas as pd\n",
    "import numpy as np"
   ]
  },
  {
   "cell_type": "code",
   "execution_count": null,
   "metadata": {},
   "outputs": [],
   "source": [
    "df_wiki_train = pd.read_json('data/QA-dataset/data/2wikimultihopQA/train.json')\n",
    "df_wiki_dev = pd.read_json('data/QA-dataset/data/2wikimultihopQA/dev.json')\n",
    "df_wiki_test = pd.read_json('data/QA-dataset/data/2wikimultihopQA/test.json')\n",
    "\n",
    "df_wiki = pd.concat([df_wiki_train, df_wiki_dev, df_wiki_test])\n",
    "df_wiki.drop(columns=['type', 'supporting_facts', 'evidences'], inplace=True)\n",
    "\n",
    "df_wiki = df_wiki.explode('context', ignore_index=True)\n",
    "df_wiki_corpus = df_wiki['context'].apply(lambda row: row[0] + ' - ' + ' '.join(row[1]))\n",
    "df_wiki_corpus.drop_duplicates(ignore_index=True, inplace=True)\n",
    "\n",
    "df_wiki_corpus"
   ]
  },
  {
   "cell_type": "code",
   "execution_count": null,
   "metadata": {},
   "outputs": [],
   "source": [
    "df_musique_train = pd.read_json('data/QA-dataset/data/musique/musique_full_v1.0_train.jsonl', lines=True)\n",
    "df_musique_dev = pd.read_json('data/QA-dataset/data/musique/musique_full_v1.0_dev.jsonl', lines=True)\n",
    "df_musique_test = pd.read_json('data/QA-dataset/data/musique/musique_full_v1.0_test.jsonl', lines=True)\n",
    "\n",
    "df_musique = pd.concat([df_musique_train, df_musique_dev, df_musique_test])\n",
    "df_musique.drop(columns=['question_decomposition', 'answer_aliases', 'answerable'], inplace=True)\n",
    "\n",
    "df_musique = df_musique.explode('paragraphs', ignore_index=True)\n",
    "df_musique_corpus = df_musique['paragraphs'].apply(lambda row: row['title'] + ' - ' +  row['paragraph_text'])\n",
    "df_musique_corpus.drop_duplicates(ignore_index=True, inplace=True)\n",
    "\n",
    "df_musique_corpus"
   ]
  },
  {
   "cell_type": "code",
   "execution_count": null,
   "metadata": {},
   "outputs": [],
   "source": [
    "df_corpus = pd.concat([df_wiki_corpus, df_musique_corpus])\n",
    "df_corpus = df_corpus.sample(frac=1, random_state=42)\n",
    "df_corpus = df_corpus.reset_index(drop=True)\n",
    "np.save('data/block_records.npy', df_corpus.to_numpy())\n",
    "df_corpus"
   ]
  }
 ],
 "metadata": {
  "kernelspec": {
   "display_name": "env",
   "language": "python",
   "name": "python3"
  },
  "language_info": {
   "codemirror_mode": {
    "name": "ipython",
    "version": 3
   },
   "file_extension": ".py",
   "mimetype": "text/x-python",
   "name": "python",
   "nbconvert_exporter": "python",
   "pygments_lexer": "ipython3",
   "version": "3.11.3"
  }
 },
 "nbformat": 4,
 "nbformat_minor": 2
}
