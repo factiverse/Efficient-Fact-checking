{
 "cells": [
  {
   "cell_type": "markdown",
   "metadata": {},
   "source": [
    "# Construct Corpus data dump for Retrieval"
   ]
  },
  {
   "cell_type": "code",
   "execution_count": 2,
   "metadata": {},
   "outputs": [],
   "source": [
    "import pandas as pd\n",
    "import numpy as np"
   ]
  },
  {
   "cell_type": "markdown",
   "metadata": {},
   "source": [
    "Load 2WikiMultiHopQA data"
   ]
  },
  {
   "cell_type": "code",
   "execution_count": 2,
   "metadata": {},
   "outputs": [
    {
     "data": {
      "text/plain": [
       "0         Stuart Rosenberg - Stuart Rosenberg (August 11...\n",
       "1         Méditerranée (1963 film) - Méditerranée is a 1...\n",
       "2         Move (1970 film) - Move is a 1970 American com...\n",
       "3         Ian Barry (director) - Ian Barry is an Austral...\n",
       "4         Peter Levin - Peter Levin is an American direc...\n",
       "                                ...                        \n",
       "430220    Karl Friedrich, Duke of Saxe-Meiningen - Karl ...\n",
       "430221    Josip Cindro - Josip Cindro was a Dalmatian po...\n",
       "430222    Puven Pather - Puven Pather is an Australian f...\n",
       "430223    Jessica Gower - Jessica Gower (born 1977 in Me...\n",
       "430224    Never Trouble Trouble Until Trouble Troubles Y...\n",
       "Name: context, Length: 430225, dtype: object"
      ]
     },
     "execution_count": 2,
     "metadata": {},
     "output_type": "execute_result"
    }
   ],
   "source": [
    "df_wiki_train = pd.read_json('data/QA-dataset/data/2wikimultihopQA/train.json')\n",
    "df_wiki_dev = pd.read_json('data/QA-dataset/data/2wikimultihopQA/dev.json')\n",
    "df_wiki_test = pd.read_json('data/QA-dataset/data/2wikimultihopQA/test.json')\n",
    "\n",
    "df_wiki = pd.concat([df_wiki_train, df_wiki_dev, df_wiki_test])\n",
    "df_wiki.drop(columns=['type', 'supporting_facts', 'evidences'], inplace=True)\n",
    "\n",
    "df_wiki = df_wiki.explode('context', ignore_index=True)\n",
    "df_wiki_corpus = df_wiki['context'].apply(lambda row: row[0] + ' - ' + ' '.join(row[1]))\n",
    "df_wiki_corpus.drop_duplicates(ignore_index=True, inplace=True)\n",
    "\n",
    "df_wiki_corpus"
   ]
  },
  {
   "cell_type": "markdown",
   "metadata": {},
   "source": [
    "Load MusiqueQA data"
   ]
  },
  {
   "cell_type": "code",
   "execution_count": 3,
   "metadata": {},
   "outputs": [
    {
     "data": {
      "text/plain": [
       "0         All Things in Time - All Things in Time is an ...\n",
       "1         Goin' Out of My Head - ``Goin 'Out of My Head ...\n",
       "2         Every Little Thing U Do - ``Every Little Thing...\n",
       "3         She Don't Love You - ``She Do n't Love You ''i...\n",
       "4         Crazy Desire - Crazy Desire (originally titled...\n",
       "                                ...                        \n",
       "133194    Land reform in India - In land reform in Keral...\n",
       "133195    A Place in England - A Place in England is a n...\n",
       "133196    Luis Sales - Luis Sales (1745–1807) served as ...\n",
       "133197    Joseph Merklin - Joseph Merklin (17 February 1...\n",
       "133198    SM UB-94 - SM \"UB-94\" was a German Type UB III...\n",
       "Name: paragraphs, Length: 133199, dtype: object"
      ]
     },
     "execution_count": 3,
     "metadata": {},
     "output_type": "execute_result"
    }
   ],
   "source": [
    "df_musique_train = pd.read_json('data/QA-dataset/data/musique/musique_full_v1.0_train.jsonl', lines=True)\n",
    "df_musique_dev = pd.read_json('data/QA-dataset/data/musique/musique_full_v1.0_dev.jsonl', lines=True)\n",
    "df_musique_test = pd.read_json('data/QA-dataset/data/musique/musique_full_v1.0_test.jsonl', lines=True)\n",
    "\n",
    "df_musique = pd.concat([df_musique_train, df_musique_dev, df_musique_test])\n",
    "df_musique.drop(columns=['question_decomposition', 'answer_aliases', 'answerable'], inplace=True)\n",
    "\n",
    "df_musique = df_musique.explode('paragraphs', ignore_index=True)\n",
    "df_musique_corpus = df_musique['paragraphs'].apply(lambda row: row['title'] + ' - ' +  row['paragraph_text'])\n",
    "df_musique_corpus.drop_duplicates(ignore_index=True, inplace=True)\n",
    "\n",
    "df_musique_corpus"
   ]
  },
  {
   "cell_type": "markdown",
   "metadata": {},
   "source": [
    "Combine to a single corpus concisting of phrases to be retrieved and save as npy file (input for RealmRetriever)"
   ]
  },
  {
   "cell_type": "code",
   "execution_count": 45,
   "metadata": {},
   "outputs": [
    {
     "data": {
      "text/plain": [
       "array([b'Ishberda - Ishberda is a rural locality( a selo) and the administrative center of Ishberdinsky Selsoviet, Baymaksky District, Bashkortostan, Russia. The population was 638 as of 2010. There are 6 streets.',\n",
       "       b'Santiago Giordana - Santiago Giordana( born 3 May 1995) is an Argentine professional footballer who plays as a forward for Primera B Nacional side Club Atl\\xc3\\xa9tico Alvarado.',\n",
       "       b'Dermide Leclerc - Dermide Louis Napol\\xc3\\xa9on Leclerc (20 April 1798 \\xe2\\x80\\x93 14 August 1804) was the only child of Pauline Bonaparte (later \"suo jure\" Duchess of Guastalla) and her husband, French Army general Charles Leclerc. Through his mother, Dermide was a nephew of the future Emperor Napoleon I. In 1802, during the Haitian Revolution, Dermide arrived on the island-colony of Saint-Domingue with his parents, as part of the Saint-Domingue expedition. After his father\\'s death of yellow fever later during the year, Dermide and Pauline were brought back to France. In 1803, Pauline remarried, this time to Italian nobleman Camillo Borghese, and she took up residence, along with her husband and son, in Rome. Always a frail child, Dermide died of a fever at the age of six, three months after his uncle became Emperor and two years before his mother\\'s proclamation as Duchess of Guastalla.',\n",
       "       ...,\n",
       "       b'NamPower - NamPower is the national power utility company of Namibia. NamPower was founded in 1964 as the South West Africa Water and Electricity Corporation( SWAWEK) by the government of South Africa. Its offices are located in Windhoek. The early history of the company revolves around the Kunene River hydroelectric project.',\n",
       "       b'Damir Nik\\xc5\\xa1i\\xc4\\x87 - Damir Nik\\xc5\\xa1i\\xc4\\x87( born 6 December 1970) is conceptual artist, standup comedian, blogger and politician from Bosnia and Herzegovina. One of his best known art works is a seven- minute- long video entitled\" If I was n\\'t muslim\"( 2005).',\n",
       "       b'Abdal Beygi Mohammadi - Abdal Beygi Mohammadi( also Romanized as \\xe2\\x80\\x98 Abd\\xc4\\x81l Beyg\\xc4\\xab Mo\\xe1\\xb8\\xa5ammad\\xc4\\xab; also known as B\\xc4\\x81zvand Mo\\xe1\\xb8\\xa9ammad\\xc4\\xab, \\xe2\\x80\\x98 Abd\\xc4\\x81l Beyg\\xc4\\xab and \\xe2\\x80\\x98 Abdolbeyg\\xc4\\xab) is a village in Bazvand Rural District, Central District, Rumeshkhan County, Lorestan Province, Iran. It lies north- east of Kahriz Gizhian. At the 2006 census, its population was 205, in 43 families.'],\n",
       "      dtype=object)"
      ]
     },
     "execution_count": 45,
     "metadata": {},
     "output_type": "execute_result"
    }
   ],
   "source": [
    "df_corpus = pd.concat([df_wiki_corpus.astype(str), df_musique_corpus.astype(str)])\n",
    "df_corpus = df_corpus.sample(frac=1, random_state=42)\n",
    "df_corpus = df_corpus.reset_index(drop=True)\n",
    "\n",
    "# Convert to numpy of byte strings\n",
    "np_corpus = df_corpus.to_numpy()\n",
    "for i in range(len(np_corpus)):\n",
    "    np_corpus[i] = np_corpus[i].encode()\n",
    "\n",
    "np.save('data/block_records.npy', np_corpus)\n",
    "\n",
    "np_corpus"
   ]
  }
 ],
 "metadata": {
  "kernelspec": {
   "display_name": "env",
   "language": "python",
   "name": "python3"
  },
  "language_info": {
   "codemirror_mode": {
    "name": "ipython",
    "version": 3
   },
   "file_extension": ".py",
   "mimetype": "text/x-python",
   "name": "python",
   "nbconvert_exporter": "python",
   "pygments_lexer": "ipython3",
   "version": "3.11.3"
  }
 },
 "nbformat": 4,
 "nbformat_minor": 2
}
